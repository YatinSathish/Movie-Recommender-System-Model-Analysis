{
 "cells": [
  {
   "cell_type": "markdown",
   "id": "1233900b-9c55-4125-b56b-ca70f6750d68",
   "metadata": {
    "tags": []
   },
   "source": [
    "# Content-Based Movie Recommendation System: Model Analysis and User Profile Evaluation"
   ]
  },
  {
   "cell_type": "markdown",
   "id": "97dfb5e4-dbf4-4c4e-beef-724fe58fb3de",
   "metadata": {},
   "source": [
    "### Introduction\n",
    "\n",
    "This project builds a movie recommendation system that suggests movies based on their details like title, director, cast, and genre. It uses Bernoulli Naive Bayes, Multinomial Naive Bayes, and Random Forest classifiers. \n",
    "\n",
    "It analyzes these models by tuning their parameters, creates user profiles, and identifies the top words for each user in each genre.\n",
    "\n",
    "### Dataset\n",
    "\n",
    "The dataset contains 2,000 movies across 8 genres: Animation, Comedy, Drama, Family, Horror, Romance, Sci-Fi, and Thriller. Each movie entry includes details such as title, release year, director, and main actors. The data is stored in TSV files, with each genre having a separate file.  \n",
    "\n",
    "Additionally, the project creates user profiles based on their genre preferences. It analyzes the most important words for each user in every genre to understand their interests and improve recommendations.\n",
    "\n",
    "The key steps involved in this project are:  \n",
    "\n",
    "1. **Data Preprocessing**:  \n",
    "   - Loading movie datasets categorized by genre.  \n",
    "   - Creating a unified document representation for each movie.  \n",
    "\n",
    "2. **Text Classification for Genre Prediction**:  \n",
    "   - Using **Bernoulli Naive Bayes** and **Multinomial Naive Bayes** classifiers to categorize movies into genres based on textual features.  \n",
    "\n",
    "3. **Building the Recommender System**:  \n",
    "   - Leveraging the trained classifier to predict genres for unseen movies.  \n",
    "   - Computing movie similarity scores based on text data and genre labels.  \n",
    "   - Generating recommendations based on similarity metrics.  \n",
    "\n",
    "4. **Evaluation and Analysis**:  \n",
    "   - Assessing model performance using accuracy, precision, recall, and F1-score.  \n",
    "   - Comparing different classification techniques to identify the most effective approach.  \n"
   ]
  },
  {
   "cell_type": "code",
   "execution_count": 1,
   "id": "be14dd78-ed37-4508-a4ff-54d4bfa5cccd",
   "metadata": {},
   "outputs": [],
   "source": [
    "import os\n",
    "import pandas as pd\n",
    "import nltk\n",
    "import re\n",
    "from nltk.corpus import stopwords\n",
    "from nltk.tokenize import word_tokenize\n",
    "from nltk.stem import PorterStemmer\n",
    "from nltk.stem import WordNetLemmatizer\n",
    "from sklearn.feature_extraction.text import CountVectorizer\n",
    "from sklearn.feature_extraction.text import TfidfVectorizer\n",
    "from sklearn.naive_bayes import BernoulliNB, MultinomialNB\n",
    "from sklearn.model_selection import train_test_split\n",
    "from sklearn.metrics import accuracy_score, classification_report\n",
    "from sklearn.model_selection import cross_val_score\n",
    "import numpy as np\n",
    "import matplotlib.pyplot as plt\n",
    "from sklearn.metrics import make_scorer, precision_score, recall_score, f1_score\n",
    "from sklearn.ensemble import RandomForestClassifier"
   ]
  },
  {
   "cell_type": "code",
   "execution_count": 2,
   "id": "427298e8-929d-4f5e-b093-4d2686b5516e",
   "metadata": {},
   "outputs": [
    {
     "name": "stdout",
     "output_type": "stream",
     "text": [
      "0       Moon Castle: The Space Adventure 2011 James Ch...\n",
      "1       Inimey Nangathan 2007 Venky Babu nan Vichu, Va...\n",
      "2       The Wild Thornberrys Movie 2002 Cathy Malkasia...\n",
      "3       Race for Your Life, Charlie Brown 1977 Phil Ro...\n",
      "4       Boonie Bears: Entangled Worlds 2017 Ding Liang...\n",
      "                              ...                        \n",
      "1995    Half Light 2006 Craig Rosenberg Demi Moore, Ha...\n",
      "1996    Magic Magic 2013 Sebastián Silva Juno Temple, ...\n",
      "1997    Deadpool 2016 Tim Miller Ryan Reynolds\\r\\nT.J....\n",
      "1998    Out of the Dark 2015 Lluís Quílez Scott Speedm...\n",
      "1999    Awake 2007 Joby Harold Hayden Christensen, Jes...\n",
      "Name: document, Length: 2000, dtype: object\n"
     ]
    }
   ],
   "source": [
    "genres=['animation', 'comedy', 'drama', 'family', 'horror', 'romance', 'sci-fi', 'thriller']\n",
    "dataframes=[]\n",
    "for g in genres:\n",
    "    file=os.path.join('dataset',f'{g}.tsv')\n",
    "    df=pd.read_csv(file,sep='\\t')\n",
    "    dataframes.append(df)\n",
    "movies=pd.concat(dataframes,ignore_index=True)\n",
    "movies['document'] = movies.apply(lambda row: ' '.join(row.drop('Genre').values.astype(str)), axis=1)\n",
    "movies['document'] = movies['document'].fillna('')\n",
    "\n",
    "print(movies['document'])"
   ]
  },
  {
   "cell_type": "markdown",
   "id": "391674df-cb06-4263-aadd-ddf40c8e8add",
   "metadata": {
    "tags": []
   },
   "source": [
    "In the below cells, I have preprocessed the data and applied both Bernoulli and Multinomial Naive Bayes model. These were the steps I performed:\n",
    "\n",
    "- As the regex might remove too many characters, I am adjusting the `re.sub()` to include the special characters such as `!,&,-,',.,`and `:`. This has increased the model's accuracy.\n",
    "- To improve the evaluation, I will be using the `cross_val_score` function.\n",
    "-  Lowercase Conversion - Converting all letters to lowercase ensures consistency of the data\n",
    "-  Selectively retaining special characters - This may help in better genre classification\n",
    "-  Tokenization - This converts the text into induvidual words.\n",
    "-  Removal of stopwords - This step removed the common words that have no individual meaning. This reduces noise.\n",
    "-  Stemming and Lemmatization - Performing both stemming and lemmatization together improved the accuracy to a great level. This reduced each word to its root form hence making different forms of a word is treated the same."
   ]
  },
  {
   "cell_type": "code",
   "execution_count": 3,
   "id": "d89c7336-a819-404a-988c-cfb5a0f52933",
   "metadata": {
    "tags": []
   },
   "outputs": [
    {
     "name": "stderr",
     "output_type": "stream",
     "text": [
      "[nltk_data] Downloading package stopwords to C:\\Users\\Yatindran\n",
      "[nltk_data]     Sathish\\AppData\\Roaming\\nltk_data...\n",
      "[nltk_data]   Package stopwords is already up-to-date!\n",
      "[nltk_data] Downloading package punkt to C:\\Users\\Yatindran\n",
      "[nltk_data]     Sathish\\AppData\\Roaming\\nltk_data...\n",
      "[nltk_data]   Package punkt is already up-to-date!\n",
      "[nltk_data] Downloading package punkt_tab to C:\\Users\\Yatindran\n",
      "[nltk_data]     Sathish\\AppData\\Roaming\\nltk_data...\n",
      "[nltk_data]   Package punkt_tab is already up-to-date!\n",
      "[nltk_data] Downloading package wordnet to C:\\Users\\Yatindran\n",
      "[nltk_data]     Sathish\\AppData\\Roaming\\nltk_data...\n",
      "[nltk_data]   Package wordnet is already up-to-date!\n"
     ]
    }
   ],
   "source": [
    "nltk.download('stopwords')\n",
    "nltk.download('punkt')\n",
    "nltk.download('punkt_tab')\n",
    "\n",
    "# For lemmatizer\n",
    "nltk.download('wordnet')\n",
    "\n",
    "ps = PorterStemmer()\n",
    "stop_words = set(stopwords.words('english'))\n",
    "\n",
    "# Lemmatizer\n",
    "lemmatizer=WordNetLemmatizer()   \n",
    "\n",
    "# Define preprocessing function\n",
    "def preprocess_text(text):\n",
    "    text = text.lower()\n",
    "    # Retaining some special characters for better genre classificaation\n",
    "    text = re.sub(r\"[^\\w\\s!&\\-'.:]\", '', text) \n",
    "    tokens = word_tokenize(text)\n",
    "    tokens = [word for word in tokens if word not in stop_words]\n",
    "    tokens = [ps.stem(word) for word in tokens]\n",
    "    # Lemmatizing words in addition to stemming \n",
    "    tokens = [lemmatizer.lemmatize(word) for word in tokens]   \n",
    "    \n",
    "    return ' '.join(tokens)\n",
    "\n",
    "# Apply preprocessing to each document\n",
    "movies['document'] = movies['document'].apply(preprocess_text)"
   ]
  },
  {
   "cell_type": "code",
   "execution_count": 4,
   "id": "173f6441-2e07-4c1b-90fd-c339f7b4cfd7",
   "metadata": {
    "tags": []
   },
   "outputs": [
    {
     "name": "stdout",
     "output_type": "stream",
     "text": [
      "0       moon castl : space adventur 2011 jame choo zu liqe zhang lin deng yute liang ying xie weitong gao quansheng zhao na plot follow goat go ...\n",
      "1       inimey nangathan 2007 venki babu nan vichu varadhu vaithi govind four friend earn livelihood kathakalakshepam . want becom rich famou . ...\n",
      "2       wild thornberri movi 2002 cathi malkasian jeff mcgrath lacey chabert tom kane tim curri ice-t 12-year-old eliza thornberri play famili c...\n",
      "3       race life charli brown 1977 phil roman bill melendez duncan watson bill melendez gail davi stuart brotman peanut gang head camp remot so...\n",
      "4       booni bear : entangl world 2017 ding liang shang wenji bao chunlai sun jianhong booni bear gang da ya big vinc small yukun tri stop cath...\n",
      "                                                                           ...                                                                     \n",
      "1995    half light 2006 craig rosenberg demi moor han matheson rachel carlson moor success american murder mysteri author live london five-year-...\n",
      "1996    magic magic 2013 sebastián silva juno templ emili brown michael cera alicia juno templ make first trip outsid unit state arriv chile cou...\n",
      "1997    deadpool 2016 tim miller ryan reynold t.j. miller morena baccarin wade wilson dishonor discharg special forc oper work mercenari meet es...\n",
      "1998    dark 2015 lluí quílez scott speedman stephen rea julia stile pixi davi 1992 dr contrera sr. prepar abandon finca santa clara colombia . ...\n",
      "1999    awak 2007 jobi harold hayden christensen jessica alba lena olin arliss howard terrenc howard young billionair clay beresford jr. hayden ...\n",
      "Name: document, Length: 2000, dtype: object\n"
     ]
    }
   ],
   "source": [
    "pd.set_option('display.width', 180)\n",
    "pd.set_option('display.max_colwidth', 140)\n",
    "print(movies['document'])"
   ]
  },
  {
   "cell_type": "markdown",
   "id": "93e91da7-8ee9-4d4d-bbe8-0bd52faabf13",
   "metadata": {},
   "source": [
    "### Bernoulli and Multinomial Naive Bayes Model"
   ]
  },
  {
   "cell_type": "code",
   "execution_count": 5,
   "id": "ca01c868-9a5e-4501-8ee9-2bbda75c74bd",
   "metadata": {
    "tags": []
   },
   "outputs": [
    {
     "name": "stdout",
     "output_type": "stream",
     "text": [
      "BernoulliNB()\n",
      "MultinomialNB()\n"
     ]
    }
   ],
   "source": [
    "# Changing the value of max_features to boost accuracy\n",
    "vectorizer = CountVectorizer(max_features=15000)    \n",
    "\n",
    "X=vectorizer.fit_transform(movies['document'])\n",
    "y=movies['Genre']\n",
    "\n",
    "X_train, X_test, y_train, y_test = train_test_split(X,y, test_size=0.2, random_state=42)\n",
    "\n",
    "bnb=BernoulliNB()\n",
    "mnb=MultinomialNB()\n",
    "\n",
    "bnb.fit(X_train, y_train)\n",
    "mnb.fit(X_train, y_train)\n",
    "\n",
    "print(bnb)\n",
    "print(mnb)"
   ]
  },
  {
   "cell_type": "code",
   "execution_count": 6,
   "id": "9ca7a2be-0b88-49f0-8dd3-1ff6aaa6b06d",
   "metadata": {
    "tags": []
   },
   "outputs": [
    {
     "name": "stdout",
     "output_type": "stream",
     "text": [
      "Bernoulli NB\n",
      "0.5275\n",
      "              precision    recall  f1-score   support\n",
      "\n",
      "   animation       0.66      0.49      0.56        47\n",
      "      comedy       0.81      0.23      0.36        57\n",
      "       drama       0.36      0.70      0.48        50\n",
      "      family       0.75      0.53      0.62        45\n",
      "      horror       0.62      0.63      0.63        41\n",
      "     romance       0.40      0.70      0.51        47\n",
      "      sci-fi       0.76      0.60      0.67        62\n",
      "    thriller       0.43      0.39      0.41        51\n",
      "\n",
      "    accuracy                           0.53       400\n",
      "   macro avg       0.60      0.53      0.53       400\n",
      "weighted avg       0.60      0.53      0.53       400\n",
      "\n",
      "Multinomial NB\n",
      "0.56\n",
      "              precision    recall  f1-score   support\n",
      "\n",
      "   animation       0.65      0.43      0.51        47\n",
      "      comedy       0.51      0.44      0.47        57\n",
      "       drama       0.45      0.44      0.44        50\n",
      "      family       0.65      0.67      0.66        45\n",
      "      horror       0.60      0.68      0.64        41\n",
      "     romance       0.45      0.47      0.46        47\n",
      "      sci-fi       0.72      0.79      0.75        62\n",
      "    thriller       0.46      0.55      0.50        51\n",
      "\n",
      "    accuracy                           0.56       400\n",
      "   macro avg       0.56      0.56      0.55       400\n",
      "weighted avg       0.56      0.56      0.56       400\n",
      "\n"
     ]
    }
   ],
   "source": [
    "# Predicting the categories of the test set\n",
    "y_pred_bnb=bnb.predict(X_test)\n",
    "y_pred_mnb=mnb.predict(X_test)\n",
    "\n",
    "print('Bernoulli NB')\n",
    "# Printing accuracy and classification report of bnb\n",
    "print(accuracy_score(y_test, y_pred_bnb))\n",
    "print(classification_report(y_test, y_pred_bnb))\n",
    "\n",
    "print('Multinomial NB')\n",
    "# Printing accuracy and classification report of mnb\n",
    "print(accuracy_score(y_test, y_pred_mnb))\n",
    "print(classification_report(y_test, y_pred_mnb))"
   ]
  },
  {
   "cell_type": "markdown",
   "id": "68e3b144-56d6-4770-a232-2d18c665d233",
   "metadata": {},
   "source": [
    "### Comparing metrics of BNB and MNB"
   ]
  },
  {
   "cell_type": "code",
   "execution_count": 7,
   "id": "a1096a00-84ea-4171-81d7-ea2d91b9ffdb",
   "metadata": {},
   "outputs": [
    {
     "name": "stdout",
     "output_type": "stream",
     "text": [
      "Bernoulli Naive Bayes - Accuracy: 0.5275, Precision: 0.5907, Recall: 0.5275, F1-Score: 0.5334\n",
      "Multinomial Naive Bayes - Accuracy: 0.5690, Precision: 0.5745, Recall: 0.5690, F1-Score: 0.5661\n",
      "\n",
      "\n"
     ]
    },
    {
     "data": {
      "image/png": "[encoded data removed]",
      "text/plain": [
       "<Figure size 640x480 with 1 Axes>"
      ]
     },
     "metadata": {},
     "output_type": "display_data"
    }
   ],
   "source": [
    "# Bernoulli Naive Bayes (BNB)\n",
    "bnb_accuracy=cross_val_score(bnb, X, y, cv=5, scoring='accuracy')\n",
    "bnb_precision=cross_val_score(bnb, X, y, cv=5, scoring='precision_macro')\n",
    "bnb_recall=cross_val_score(bnb, X, y, cv=5, scoring='recall_macro')\n",
    "bnb_f1=cross_val_score(bnb, X, y, cv=5, scoring='f1_macro')\n",
    "\n",
    "# Multinomial Naive Bayes (MNB)\n",
    "# Usage of cross_val_score() for cross validation\n",
    "mnb_accuracy=cross_val_score(mnb, X, y, cv=5, scoring='accuracy')\n",
    "mnb_precision=cross_val_score(mnb, X, y, cv=5, scoring='precision_macro')\n",
    "mnb_recall=cross_val_score(mnb, X, y, cv=5, scoring='recall_macro')\n",
    "mnb_f1=cross_val_score(mnb, X, y, cv=5, scoring='f1_macro')\n",
    "\n",
    "# Printing the results\n",
    "print(f\"Bernoulli Naive Bayes - Accuracy: {bnb_accuracy.mean():.4f}, Precision: {bnb_precision.mean():.4f}, Recall: {bnb_recall.mean():.4f}, F1-Score: {bnb_f1.mean():.4f}\")\n",
    "print(f\"Multinomial Naive Bayes - Accuracy: {mnb_accuracy.mean():.4f}, Precision: {mnb_precision.mean():.4f}, Recall: {mnb_recall.mean():.4f}, F1-Score: {mnb_f1.mean():.4f}\\n\\n\")\n",
    "\n",
    "# Plotting the results\n",
    "metrics=['Accuracy', 'Precision', 'Recall', 'F1-Score']\n",
    "bnb_results=[bnb_accuracy.mean(), bnb_precision.mean(), bnb_recall.mean(), bnb_f1.mean()]\n",
    "mnb_results=[mnb_accuracy.mean(), mnb_precision.mean(), mnb_recall.mean(), mnb_f1.mean()]\n",
    "\n",
    "x=np.arange(len(metrics))\n",
    "width=0.2\n",
    "fig,axi=plt.subplots()\n",
    "axi.bar(x-width/2, bnb_results, width, label='BNB')\n",
    "axi.bar(x+width/2, mnb_results, width, label='MNB')\n",
    "axi.set_xlabel('Metrics')\n",
    "axi.set_ylabel('Scores')\n",
    "axi.set_title('Comparison of BNB and MNB Models')\n",
    "axi.set_xticks(x)\n",
    "axi.set_xticklabels(metrics)\n",
    "axi.legend()\n",
    "\n",
    "fig.tight_layout()\n",
    "\n",
    "plt.show()"
   ]
  },
  {
   "cell_type": "markdown",
   "id": "62dc90ae-1208-426a-8060-b1a5ed430a1f",
   "metadata": {},
   "source": [
    "### Conclusion from using BNB and MNB model:\n",
    "\n",
    "As we can clearly see, MNB method is superior than BNB as we can see that it performs better than BNB in almost all metrics.\n",
    "\n",
    "Although BNB has a higher precision, the overall performance of MNB makes it the preferred model for this classification task."
   ]
  },
  {
   "cell_type": "code",
   "execution_count": 8,
   "id": "4c717acb-be70-401a-8e72-52708959ac7c",
   "metadata": {},
   "outputs": [
    {
     "data": {
      "image/png": "[encoded data removed]",
      "text/plain": [
       "<Figure size 600x500 with 1 Axes>"
      ]
     },
     "metadata": {},
     "output_type": "display_data"
    },
    {
     "name": "stdout",
     "output_type": "stream",
     "text": [
      "BNB Results:\n",
      "Features   100        500        1000       2000       5000       10000      15000      17500     \n",
      "accuracy   0.3470     0.4395     0.4840     0.5040     0.5210     0.5220     0.5275     0.5260    \n",
      "precision  0.3868     0.5007     0.5378     0.5640     0.5835     0.5873     0.5907     0.5882    \n",
      "recall     0.3470     0.4395     0.4840     0.5040     0.5210     0.5220     0.5275     0.5260    \n",
      "f1         0.3367     0.4402     0.4885     0.5105     0.5285     0.5293     0.5334     0.5316    \n",
      "\n",
      "MNB Results:\n",
      "Features   100        500        1000       2000       5000       10000      15000      17500     \n",
      "accuracy   0.4085     0.5120     0.5230     0.5470     0.5640     0.5695     0.5690     0.5645    \n",
      "precision  0.4107     0.5170     0.5282     0.5510     0.5706     0.5788     0.5745     0.5698    \n",
      "recall     0.4085     0.5120     0.5230     0.5470     0.5640     0.5695     0.5690     0.5645    \n",
      "f1         0.4045     0.5096     0.5217     0.5457     0.5627     0.5676     0.5661     0.5615    \n"
     ]
    }
   ],
   "source": [
    "# Defining a range of max_features values to test\n",
    "max_features_values = [100, 500, 1000, 2000, 5000, 10000, 15000,17500]\n",
    "\n",
    "# Dictionaries to store results\n",
    "bnb_results={'accuracy': [], 'precision': [], 'recall': [], 'f1': []}\n",
    "mnb_results={'accuracy': [], 'precision': [], 'recall': [], 'f1': []}\n",
    "\n",
    "# Looping over different values of max_features\n",
    "for max_features in max_features_values:\n",
    "    vectorizer=CountVectorizer(max_features=max_features)\n",
    "    X=vectorizer.fit_transform(movies['document'])\n",
    "    y=movies['Genre']\n",
    "\n",
    "    # Bernoulli Naive Bayes\n",
    "    bnb_accuracy=cross_val_score(bnb, X, y, cv=5, scoring='accuracy').mean()\n",
    "    bnb_precision=cross_val_score(bnb, X, y, cv=5, scoring='precision_macro').mean()\n",
    "    bnb_recall=cross_val_score(bnb, X, y, cv=5, scoring='recall_macro').mean()\n",
    "    bnb_f1=cross_val_score(bnb, X, y, cv=5, scoring='f1_macro').mean()\n",
    "\n",
    "    # Multinomial Naive Bayes \n",
    "    mnb_accuracy = cross_val_score(mnb, X, y, cv=5, scoring='accuracy').mean()\n",
    "    mnb_precision = cross_val_score(mnb, X, y, cv=5, scoring='precision_macro').mean()\n",
    "    mnb_recall = cross_val_score(mnb, X, y, cv=5, scoring='recall_macro').mean()\n",
    "    mnb_f1 = cross_val_score(mnb, X, y, cv=5, scoring='f1_macro').mean()\n",
    "\n",
    "    # Storing results\n",
    "    bnb_results['accuracy'].append(bnb_accuracy)\n",
    "    bnb_results['precision'].append(bnb_precision)\n",
    "    bnb_results['recall'].append(bnb_recall)\n",
    "    bnb_results['f1'].append(bnb_f1)\n",
    "    mnb_results['accuracy'].append(mnb_accuracy)\n",
    "    mnb_results['precision'].append(mnb_precision)\n",
    "    mnb_results['recall'].append(mnb_recall)\n",
    "    mnb_results['f1'].append(mnb_f1)\n",
    "\n",
    "plt.figure(figsize=(6,5))\n",
    "plt.plot(max_features_values, bnb_results['accuracy'], label='BNB', marker='o')\n",
    "plt.plot(max_features_values, mnb_results['accuracy'], label='MNB', marker='o')\n",
    "plt.title('Accuracy vs Number of Features')\n",
    "plt.xlabel('Number of Features')\n",
    "plt.ylabel('Accuracy')\n",
    "plt.legend()\n",
    "plt.grid(True)\n",
    "plt.show()\n",
    "\n",
    "print(\"BNB Results:\")\n",
    "print(f\"{'Features':<10} {'100':<10} {'500':<10} {'1000':<10} {'2000':<10} {'5000':<10} {'10000':<10} {'15000':<10} {'17500':<10}\")\n",
    "for metric in bnb_results:\n",
    "    print(f\"{metric:<10} {' '.join(f'{bnb_results[metric][i]:<10.4f}' for i in range(len(max_features_values)))}\")\n",
    "\n",
    "print(\"\\nMNB Results:\")\n",
    "print(f\"{'Features':<10} {'100':<10} {'500':<10} {'1000':<10} {'2000':<10} {'5000':<10} {'10000':<10} {'15000':<10} {'17500':<10}\")\n",
    "for metric in mnb_results:\n",
    "    print(f\"{metric:<10} {' '.join(f'{mnb_results[metric][i]:<10.4f}' for i in range(len(max_features_values)))}\")"
   ]
  },
  {
   "cell_type": "markdown",
   "id": "efa502e7-2744-4980-8ec1-b45ca6500fc4",
   "metadata": {},
   "source": [
    "### Visualization\n",
    "\n",
    "By plotting the Accuracy vs Number of Features, we can see above that the value of accuracy is highest when the number of features is 15000 and it decreases at 17500.\n",
    "\n",
    "For BNB, the highest achieved accuracy is 0.5270 at num of features is 15000.\n",
    "For MNB, the highest achieved accuracy is 0.5695 at num of features is 15000."
   ]
  },
  {
   "cell_type": "markdown",
   "id": "d83e1d31-43ee-4f15-bd55-01a4048a6c14",
   "metadata": {},
   "source": [
    "## Random Forest Classifier\n",
    "\n",
    "- As seen below, I will be using random forest as the problem is a multiclass problem and random forest would be a good method to address this.\n",
    "- I have tuned the max features to 5000 and the n_estimators to 200 which gives an accuracy of 0.5910. After this point, the accuracy decreases.\n",
    "- In comparison to BNB and MNB, which have an accuracy of 0.5270 and 0.5695 respectively with max features of 15000, The random forest model has slightly better accuracy. "
   ]
  },
  {
   "cell_type": "code",
   "execution_count": 9,
   "id": "cb0a9d3b-67ab-4c35-bd48-75addaa809d3",
   "metadata": {},
   "outputs": [
    {
     "name": "stdout",
     "output_type": "stream",
     "text": [
      "Random Forest Model Metrics:\n",
      "\n",
      "Accuracy:  0.5785\n",
      "Precision: 0.5829\n",
      "Recall:    0.5785\n",
      "F1:        0.5699\n"
     ]
    }
   ],
   "source": [
    "# Initialize dictionaries to store Random Forest results\n",
    "rf_results={'accuracy': [], 'precision': [], 'recall': [], 'f1': []}\n",
    "\n",
    "# Setting Max Features value as 5000\n",
    "vectorizer_rf=CountVectorizer(max_features=5000) \n",
    "\n",
    "# Uncomment the below line and comment the above line to see the decrease of accuracy\n",
    "#vectorizer_rf=CountVectorizer(max_features=10000)\n",
    "\n",
    "X=vectorizer_rf.fit_transform(movies['document'])\n",
    "y=movies['Genre']\n",
    "\n",
    "# Random Forest (Setting n estimators as 200)\n",
    "rf=RandomForestClassifier(n_estimators=200, random_state=42, n_jobs=-1) \n",
    "\n",
    "# Training the data\n",
    "rf.fit(X,y)\n",
    "\n",
    "rf_accuracy=cross_val_score(rf, X, y, cv=5, scoring='accuracy').mean()\n",
    "rf_precision=cross_val_score(rf, X, y, cv=5, scoring='precision_macro').mean()\n",
    "rf_recall=cross_val_score(rf, X, y, cv=5, scoring='recall_macro').mean()\n",
    "rf_f1=cross_val_score(rf, X, y, cv=5, scoring='f1_macro').mean()\n",
    "\n",
    "print('Random Forest Model Metrics:\\n')\n",
    "print(f\"{'Accuracy:':<10} {rf_accuracy:.4f}\")\n",
    "print(f\"{'Precision:':<10} {rf_precision:.4f}\")\n",
    "print(f\"{'Recall:':<10} {rf_recall:.4f}\")\n",
    "print(f\"{'F1:':<10} {rf_f1:.4f}\")"
   ]
  },
  {
   "cell_type": "markdown",
   "id": "4bb5c068-a519-4f2c-b1f0-5ac8d73c9730",
   "metadata": {},
   "source": [
    "## User Profile Analysis\n",
    "\n",
    "### Finding top words by Genre for each User\n",
    "\n",
    "- I have defined a 'User 1', 'User 2' and 'User 3' profile and printed top 20 words for each genre."
   ]
  },
  {
   "cell_type": "code",
   "execution_count": 10,
   "id": "27fb8359-fa90-4183-a483-518cd97b672e",
   "metadata": {
    "tags": []
   },
   "outputs": [
    {
     "name": "stdout",
     "output_type": "stream",
     "text": [
      "Top words for User 1 in animation genre:\n",
      " ['tigger', 'ref', 'shrek', 'smurf', 'mcqueen', 'bear', 'find', 'back', 'use', 'anim', 'tri', 'jimmi', 'spirit', 'friend', 'jerri', 'adora', 'arlo', 'make', 'princess', 'roo']\n",
      "\n",
      "Top words for User 1 in comedy genre:\n",
      " ['sanzang', 'doc', 'oh', 'wade', 'boov', 'ben', 'burt', 'ruth', 'greg', 'mac', 'frank', 'jame', 'brad', 'derrick', 'lou', 'val', 'madea', 'jones', 'nick', 'get']\n",
      "\n",
      "Top words for User 1 in family genre:\n",
      " ['christma', 'harri', 'duck', 'grinch', 'jake', 'bombay', 'kri', 'dumbledor', 'jack', 'santa', 'team', 'charli', 'ginni', 'orion', 'slughorn', 'hockey', 'draco', 'abbi', 'game', 'thoma']\n",
      "\n",
      "Top words for User 1 in horror genre:\n",
      " ['koyomi', 'vampir', 'mullet', 'joseph', 'abbi', 'barnaba', 'kill', 'tsubasa', 'priest', 'ghost', 'shark', 'max', 'shot', 'hous', 'death', 'kiss', 'mishima', 'heidi', 'wallac', 'find']\n",
      "\n",
      "Top words for User 1 in romance genre:\n",
      " ['takeo', 'danc', 'rinko', 'nick', 'suna', 'xiang', 'katey', 'kate', 'love', 'justin', 'david', 'rafael', 'bao', 'jami', 'chri', 'charl', 'johnni', 'phil', 'tamsin', 'fran']\n",
      "\n",
      "Top words for User 1 in sci-fi genre:\n",
      " ['alien', 'ship', 'robot', 'earth', 'kill', 'clone', 'human', 'crew', 'creatur', 'harrigan', 'davidg', 'dr', 'planet', 'zane', 'hawk', 'gardner', 'spider', 'ramsay', 'luther', 'alex']\n",
      "\n",
      "Top words for User 1 in thriller genre:\n",
      " ['kill', 'murder', 'michael', 'polic', 'sara', 'car', 'find', 'ami', 'killer', 'clyde', 'mort', 'man', 'call', 'clare', 'jonathan', 'tell', 'joe', 'shoot', 'hous', 'leav']\n",
      "\n",
      "Top words for User 2 in animation genre:\n",
      " ['bug', 'bear', 'tigger', 'rabbit', 'smurf', 'roo', 'lumpi', 'pooh', 'kenai', 'boog', 'oopsi', 'oti', 'elmer', 'frylock', 'scattergood', 'care', 'humphrey', 'gargamel', 'bodi', 'daffi']\n",
      "\n",
      "Top words for User 2 in comedy genre:\n",
      " ['irv', 'greg', 'billi', 'stifler', 'tucker', 'andr', 'get', 'cam', 'jame', 'ben', 'marti', 'dusti', 'veronica', 'derrick', 'mildr', 'madea', 'chow', 'tatiana', 'go', 'parti']\n",
      "\n",
      "Top words for User 2 in family genre:\n",
      " ['harri', 'pinocchio', 'dumbledor', 'smurf', 'magic', 'ella', 'matilda', 'helena', 'aladdin', 'voldemort', 'chanticl', 'gracey', 'fairi', 'jare', 'trunchbul', 'ginni', 'digg', 'lizzi', 'snow', 'max']\n",
      "\n",
      "Top words for User 3 in animation genre:\n",
      " ['pi', 'garmadon', 'troy', 'bolt', 'nerissa', 'quacker', 'prickli', 'ted', 'lloyd', 'benedict', 'ranger', 'qwark', 'jordan', 'luca', 'jimmi', 'fish', 'tom', 'ratchet', 'georg', 'ant']\n",
      "\n",
      "Top words for User 3 in comedy genre:\n",
      " ['irv', 'strickland', 'campbel', 'billi', 'andr', 'beatriz', 'doug', 'ben', 'jame', 'chow', 'omar', 'ch', 'chelsea', 'alan', 'lloyd', 'penni', 'harri', 'adel', 'kathi', 'p1']\n",
      "\n",
      "Top words for User 3 in drama genre:\n",
      " ['tilli', 'dylan', 'chen', 'saki', 'israel', 'jack', 'oscar', 'bathsheba', 'xuan', 'sarah', 'jesu', 'christian', 'gina', 'life', 'ana', 'kokon', 'mother', 'father', 'tell', 'school']\n",
      "\n",
      "Top words for User 3 in family genre:\n",
      " ['pinocchio', 'baxter', 'lyra', 'robert', 'harriet', 'dog', 'wilbi', 'clay', 'connor', 'tess', 'grinch', 'chipmunk', 'spencer', 'shane', 'clayboy', 'zac', 'thomasina', 'stuart', 'anna', 'ethan']\n",
      "\n",
      "Top words for User 3 in horror genre:\n",
      " ['heather', 'amelia', 'venkenheim', 'monster', 'aria', 'shinichi', 'babadook', 'leprechaun', 'richard', 'parasit', 'sara', 'dana', 'sadi', 'cynthia', 'sam', 'tamiya', 'hamish', 'bruce', 'rebecca', 'chri']\n",
      "\n",
      "Top words for User 3 in romance genre:\n",
      " ['love', 'takeo', 'danc', 'xiang', 'charl', 'sheryl', 'relationship', 'rinko', 'bai', 'sae', 'hua', 'su', 'inman', 'leav', 'suna', 'rubi', 'tell', 'friend', 'meet', 'ye']\n",
      "\n",
      "Top words for User 3 in sci-fi genre:\n",
      " ['victor', 'bob', 'howard', 'clair', 'ballard', 'delo', 'clone', 'brown', 'erl', 'travel', 'angelo', 'report', 'robot', 'duffi', 'suitcas', 'guest', 'machin', 'nurs', 'resort', 'lab']\n",
      "\n",
      "Top words for User 3 in thriller genre:\n",
      " ['assang', 'daniel', 'wikileak', 'mendez', 'document', 'escape', 'embassi', 'iranian', 'iran', 'leak', 'sourc', 'redact', 'argo', 'websit', 'revolutionari', 'ambassador', 'protect', 'canadian', 'film', 'inform']\n",
      "\n"
     ]
    }
   ],
   "source": [
    "train_data = []\n",
    "test_data = []\n",
    "train_labels = []\n",
    "test_labels = []\n",
    "\n",
    "for i in range(0, len(movies), 250):\n",
    "    train_data.append(movies['document'][i:i+150])\n",
    "    test_data.append(movies['document'][i+150:i+200])\n",
    "    train_labels.append(movies['Genre'][i:i+150])\n",
    "    test_labels.append(movies['Genre'][i+150:i+200])\n",
    "\n",
    "train_data=pd.concat(train_data).reset_index(drop=True)\n",
    "test_data=pd.concat(test_data).reset_index(drop=True)\n",
    "train_labels=pd.concat(train_labels).reset_index(drop=True)\n",
    "test_labels=pd.concat(test_labels).reset_index(drop=True)\n",
    "\n",
    "# Vectorize the training data\n",
    "tfidf = TfidfVectorizer()\n",
    "tfidf_matrix_train = tfidf.fit_transform(train_data)\n",
    "\n",
    "# Train the Random Forest model\n",
    "rf.fit(tfidf_matrix_train,train_labels)\n",
    "\n",
    "predicted_genres = rf.predict(tfidf_matrix_train)\n",
    "\n",
    "# Creating user profile\n",
    "def create_profile(liked_movies, vectorizer):\n",
    "    combined_text=' '.join(liked_movies)\n",
    "    tfidf_vec=vectorizer.transform([combined_text])\n",
    "    return tfidf_vec\n",
    "\n",
    "# Load user profiles\n",
    "user1=pd.read_csv('user1.tsv',sep='\\t',header=None,index_col=0,names=['Genre','Keywords'])\n",
    "user2=pd.read_csv('user2.tsv',sep='\\t',header=None,index_col=0,names=['Genre','Keywords'])\n",
    "\n",
    "#Simulating user interests\n",
    "def get_liked_movies(user,predicted_genres,train_data):\n",
    "    liked_movies={}\n",
    "    for genre in genres:\n",
    "        if genre in user.index:\n",
    "            keywords = user.loc[genre,'Keywords'].lower().split()\n",
    "            liked_movies[genre] = []\n",
    "            for i, doc in enumerate(train_data):\n",
    "                if predicted_genres[i] == genre:\n",
    "                    if any(keyword in doc for keyword in keywords):\n",
    "                        liked_movies[genre].append(doc)\n",
    "    return liked_movies\n",
    "\n",
    "# Get liked movies for both users\n",
    "liked_movies_user1=get_liked_movies(user1, predicted_genres, train_data)\n",
    "liked_movies_user2=get_liked_movies(user2, predicted_genres, train_data)\n",
    "\n",
    "# Create user profiles\n",
    "user1_tfidf={genre:create_profile(liked_movies, tfidf) for genre,liked_movies in liked_movies_user1.items() if liked_movies}\n",
    "user2_tfidf={genre:create_profile(liked_movies, tfidf) for genre,liked_movies in liked_movies_user2.items() if liked_movies}\n",
    "\n",
    "# Print top 20 words for each genre in the user profiles\n",
    "def print_top_words(user_tfidf,vectorizer,user):\n",
    "    for genre,tfidfv in user_tfidf.items():\n",
    "        feature_array=vectorizer.get_feature_names_out()\n",
    "        tfidf_sorting=tfidfv.toarray().flatten().argsort()[::-1]\n",
    "        top_words=[feature_array[i] for i in tfidf_sorting[:20]]\n",
    "        print(f\"Top words for {user} in {genre} genre:\\n {top_words}\\n\")\n",
    "\n",
    "print_top_words(user1_tfidf,tfidf,'User 1')\n",
    "print_top_words(user2_tfidf,tfidf,'User 2')\n",
    "\n",
    "# Defining user 3\n",
    "user3={'animation': 'cartoon hero','comedy': 'laugh joke humor','drama': 'emotional life struggle','family': 'kids fun family','horror': 'scary monster',\n",
    "       'romance': 'love relationship','sci-fi': 'future technology','thriller': 'suspense tension'}\n",
    "\n",
    "# Convert user3 profile to dataframe\n",
    "user3_df=pd.DataFrame.from_dict(user3,orient='index',columns=['Keywords'])\n",
    "\n",
    "# Get liked movies for User 3\n",
    "liked_movies_user3=get_liked_movies(user3_df, predicted_genres, train_data)\n",
    "\n",
    "# Create user profile for User 3\n",
    "user3_tfidf={genre: create_profile(liked_movies, tfidf) for genre, liked_movies in liked_movies_user3.items() if liked_movies}\n",
    "\n",
    "# Print top 20 words for each genre in User 3's profile\n",
    "print_top_words(user3_tfidf,tfidf,'User 3')"
   ]
  },
  {
   "cell_type": "markdown",
   "id": "852b0658-bcd4-4063-a89e-40e446403b0f",
   "metadata": {},
   "source": [
    "### Inference:\n",
    "\n",
    "- As we can see in the output below, the top words for most genres seems reasonable. \n",
    "- Some examples are, Horror has kill, vampire, priest, ghost. Sci-Fi has alien, clone, robot."
   ]
  }
 ],
 "metadata": {
  "kernelspec": {
   "display_name": "Python 3 (ipykernel)",
   "language": "python",
   "name": "python3"
  },
  "language_info": {
   "codemirror_mode": {
    "name": "ipython",
    "version": 3
   },
   "file_extension": ".py",
   "mimetype": "text/x-python",
   "name": "python",
   "nbconvert_exporter": "python",
   "pygments_lexer": "ipython3",
   "version": "3.12.7"
  }
 },
 "nbformat": 4,
 "nbformat_minor": 5
}
